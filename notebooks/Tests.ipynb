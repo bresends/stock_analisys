{
 "cells": [
  {
   "cell_type": "code",
   "execution_count": 1,
   "metadata": {},
   "outputs": [],
   "source": [
    "%load_ext autoreload\n",
    "%autoreload 2"
   ]
  },
  {
   "cell_type": "code",
   "execution_count": 2,
   "metadata": {},
   "outputs": [],
   "source": [
    "import os\n",
    "os.chdir('..')"
   ]
  },
  {
   "cell_type": "code",
   "execution_count": null,
   "metadata": {},
   "outputs": [],
   "source": [
    "import stock_analisys.stock_full_analisys as fa\n",
    "fa.complete_study('UNH')"
   ]
  },
  {
   "cell_type": "code",
   "execution_count": 5,
   "metadata": {},
   "outputs": [
    {
     "output_type": "display_data",
     "data": {
      "text/plain": "0     Year Revenue Cost of revenue Gross profit Operating expenses  \\\n1  2015-12   30274           15383        14891                NaN   \n2  2016-12   30109           15040        15069                NaN   \n3  2017-12   31657           16001        15656                NaN   \n4  2018-12   32765           16682        16083                NaN   \n5  2019-12   32136           17136        15000                NaN   \n6      TTM   32348           16935        15413                NaN   \n\n0 Research and development Sales, General and administrative  \\\n1                     1763                              6182   \n2                     1735                              6111   \n3                     1850                              6572   \n4                     1821                              7602   \n5                     1911                              7029   \n6                     1971                              6849   \n\n0 Total operating expenses Operating income Interest Expense  ... Other  \\\n1                     7945             6946              149  ...    -8   \n2                     7846             7223              199  ...    -8   \n3                     8422             7234              322  ...   -11   \n4                     9423             6660              350  ...   -14   \n5                     8940             6060              448  ...   -12   \n6                     8820             6593              467  ...   -12   \n\n0 Net income Net income available to common shareholders Earnings per share  \\\n1       4833                                        4833                NaN   \n2       5050                                        5050                NaN   \n3       4858                                        4858                NaN   \n4       5349                                        5349                NaN   \n5       4570                                        4570                NaN   \n6       4971                                        4971                NaN   \n\n0 Basic Diluted Weighted average shares outstanding Basic Diluted EBITDA  \n1  7.72    7.58                                 NaN   626     637   8407  \n2  8.35    8.16                                 NaN   605     619   8726  \n3  8.13    7.93                                 NaN   598     613   9414  \n4  9.09    8.89                                 NaN   588     602   8838  \n5  7.92    7.81                                 NaN   577     585   7753  \n6  8.62    8.52                                 NaN   577     583   8316  \n\n[6 rows x 24 columns]",
      "text/html": "<div>\n<style scoped>\n    .dataframe tbody tr th:only-of-type {\n        vertical-align: middle;\n    }\n\n    .dataframe tbody tr th {\n        vertical-align: top;\n    }\n\n    .dataframe thead th {\n        text-align: right;\n    }\n</style>\n<table border=\"1\" class=\"dataframe\">\n  <thead>\n    <tr style=\"text-align: right;\">\n      <th></th>\n      <th>Year</th>\n      <th>Revenue</th>\n      <th>Cost of revenue</th>\n      <th>Gross profit</th>\n      <th>Operating expenses</th>\n      <th>Research and development</th>\n      <th>Sales, General and administrative</th>\n      <th>Total operating expenses</th>\n      <th>Operating income</th>\n      <th>Interest Expense</th>\n      <th>...</th>\n      <th>Other</th>\n      <th>Net income</th>\n      <th>Net income available to common shareholders</th>\n      <th>Earnings per share</th>\n      <th>Basic</th>\n      <th>Diluted</th>\n      <th>Weighted average shares outstanding</th>\n      <th>Basic</th>\n      <th>Diluted</th>\n      <th>EBITDA</th>\n    </tr>\n  </thead>\n  <tbody>\n    <tr>\n      <th>1</th>\n      <td>2015-12</td>\n      <td>30274</td>\n      <td>15383</td>\n      <td>14891</td>\n      <td>NaN</td>\n      <td>1763</td>\n      <td>6182</td>\n      <td>7945</td>\n      <td>6946</td>\n      <td>149</td>\n      <td>...</td>\n      <td>-8</td>\n      <td>4833</td>\n      <td>4833</td>\n      <td>NaN</td>\n      <td>7.72</td>\n      <td>7.58</td>\n      <td>NaN</td>\n      <td>626</td>\n      <td>637</td>\n      <td>8407</td>\n    </tr>\n    <tr>\n      <th>2</th>\n      <td>2016-12</td>\n      <td>30109</td>\n      <td>15040</td>\n      <td>15069</td>\n      <td>NaN</td>\n      <td>1735</td>\n      <td>6111</td>\n      <td>7846</td>\n      <td>7223</td>\n      <td>199</td>\n      <td>...</td>\n      <td>-8</td>\n      <td>5050</td>\n      <td>5050</td>\n      <td>NaN</td>\n      <td>8.35</td>\n      <td>8.16</td>\n      <td>NaN</td>\n      <td>605</td>\n      <td>619</td>\n      <td>8726</td>\n    </tr>\n    <tr>\n      <th>3</th>\n      <td>2017-12</td>\n      <td>31657</td>\n      <td>16001</td>\n      <td>15656</td>\n      <td>NaN</td>\n      <td>1850</td>\n      <td>6572</td>\n      <td>8422</td>\n      <td>7234</td>\n      <td>322</td>\n      <td>...</td>\n      <td>-11</td>\n      <td>4858</td>\n      <td>4858</td>\n      <td>NaN</td>\n      <td>8.13</td>\n      <td>7.93</td>\n      <td>NaN</td>\n      <td>598</td>\n      <td>613</td>\n      <td>9414</td>\n    </tr>\n    <tr>\n      <th>4</th>\n      <td>2018-12</td>\n      <td>32765</td>\n      <td>16682</td>\n      <td>16083</td>\n      <td>NaN</td>\n      <td>1821</td>\n      <td>7602</td>\n      <td>9423</td>\n      <td>6660</td>\n      <td>350</td>\n      <td>...</td>\n      <td>-14</td>\n      <td>5349</td>\n      <td>5349</td>\n      <td>NaN</td>\n      <td>9.09</td>\n      <td>8.89</td>\n      <td>NaN</td>\n      <td>588</td>\n      <td>602</td>\n      <td>8838</td>\n    </tr>\n    <tr>\n      <th>5</th>\n      <td>2019-12</td>\n      <td>32136</td>\n      <td>17136</td>\n      <td>15000</td>\n      <td>NaN</td>\n      <td>1911</td>\n      <td>7029</td>\n      <td>8940</td>\n      <td>6060</td>\n      <td>448</td>\n      <td>...</td>\n      <td>-12</td>\n      <td>4570</td>\n      <td>4570</td>\n      <td>NaN</td>\n      <td>7.92</td>\n      <td>7.81</td>\n      <td>NaN</td>\n      <td>577</td>\n      <td>585</td>\n      <td>7753</td>\n    </tr>\n    <tr>\n      <th>6</th>\n      <td>TTM</td>\n      <td>32348</td>\n      <td>16935</td>\n      <td>15413</td>\n      <td>NaN</td>\n      <td>1971</td>\n      <td>6849</td>\n      <td>8820</td>\n      <td>6593</td>\n      <td>467</td>\n      <td>...</td>\n      <td>-12</td>\n      <td>4971</td>\n      <td>4971</td>\n      <td>NaN</td>\n      <td>8.62</td>\n      <td>8.52</td>\n      <td>NaN</td>\n      <td>577</td>\n      <td>583</td>\n      <td>8316</td>\n    </tr>\n  </tbody>\n</table>\n<p>6 rows × 24 columns</p>\n</div>"
     },
     "metadata": {}
    },
    {
     "output_type": "display_data",
     "data": {
      "text/plain": "0      Year Revenue USD Mil Gross Margin % Operating Income USD Mil  \\\n1   2010-09          65,225           39.4                   18,385   \n2   2011-09         108,249           40.5                   33,790   \n3   2012-09         156,508           43.9                   55,241   \n4   2013-09         170,910           37.6                   48,999   \n5   2014-09         182,795           38.6                   52,503   \n6   2015-09         233,715           40.1                   71,230   \n7   2016-09         215,639           39.1                   60,024   \n8   2017-09         229,234           38.5                   61,344   \n9   2018-09         265,595           38.3                   70,898   \n10  2019-09         260,174           37.8                   63,930   \n11      TTM         267,981           38.1                   65,591   \n\n0  Operating Margin % Net Income USD Mil Earnings Per Share USD Dividends USD  \\\n1                28.2             14,013                   2.16           NaN   \n2                31.2             25,922                   3.95           NaN   \n3                35.3             41,733                   6.31          0.38   \n4                28.7             37,037                   5.68          1.63   \n5                28.7             39,510                   6.45          1.81   \n6                30.5             53,394                   9.22          1.98   \n7                27.8             45,687                   8.31          2.18   \n8                26.8             48,351                   9.21          2.40   \n9                26.7             59,531                  11.91          2.72   \n10               24.6             55,256                  11.89          3.00   \n11               24.5             57,215                  12.79          3.08   \n\n0  Payout Ratio % * Shares Mil  ... Key Ratios -> Efficiency Ratios  \\\n1               NaN      6,473  ...                             NaN   \n2               NaN      6,557  ...                             NaN   \n3               NaN      6,617  ...                             NaN   \n4              27.4      6,522  ...                             NaN   \n5              28.5      6,123  ...                             NaN   \n6              22.3      5,793  ...                             NaN   \n7              24.8      5,500  ...                             NaN   \n8              26.5      5,252  ...                             NaN   \n9              23.7      5,000  ...                             NaN   \n10             25.1      4,649  ...                             NaN   \n11             24.0      4,495  ...                             NaN   \n\n0  Efficiency Days Sales Outstanding Days Inventory Payables Period  \\\n1     2010-09                  24.82           6.95           81.30   \n2     2011-09                  18.34           5.17           75.48   \n3     2012-09                  19.01           3.26           74.38   \n4     2013-09                  25.66           4.37           74.54   \n5     2014-09                  30.51           6.30           85.45   \n6     2015-09                  26.79           5.81           85.57   \n7     2016-09                  27.59           6.22          101.11   \n8     2017-09                  26.77           9.04          111.72   \n9     2018-09                  28.21           9.82          116.95   \n10    2019-09                  32.35           9.09          115.20   \n11        TTM                  20.98           9.04           69.17   \n\n0  Cash Conversion Cycle Receivables Turnover Inventory Turnover  \\\n1                 -49.53                14.71              52.51   \n2                 -51.96                19.90              70.53   \n3                 -52.13                19.20             112.12   \n4                 -44.50                14.22              83.45   \n5                 -48.64                11.96              57.94   \n6                 -52.97                13.62              62.82   \n7                 -67.29                13.23              58.64   \n8                 -75.91                13.63              40.37   \n9                 -78.92                12.94              37.17   \n10                -73.76                11.28              40.13   \n11                -39.15                17.40              40.36   \n\n0  Fixed Assets Turnover Asset Turnover  \n1                  16.89           1.01  \n2                  17.26           1.13  \n3                  13.48           1.07  \n4                  10.67           0.89  \n5                   9.82           0.83  \n6                  10.85           0.89  \n7                   8.71           0.70  \n8                   7.54           0.66  \n9                   7.07           0.72  \n10                  6.61           0.74  \n11                  7.18           0.81  \n\n[11 rows x 102 columns]",
      "text/html": "<div>\n<style scoped>\n    .dataframe tbody tr th:only-of-type {\n        vertical-align: middle;\n    }\n\n    .dataframe tbody tr th {\n        vertical-align: top;\n    }\n\n    .dataframe thead th {\n        text-align: right;\n    }\n</style>\n<table border=\"1\" class=\"dataframe\">\n  <thead>\n    <tr style=\"text-align: right;\">\n      <th></th>\n      <th>Year</th>\n      <th>Revenue USD Mil</th>\n      <th>Gross Margin %</th>\n      <th>Operating Income USD Mil</th>\n      <th>Operating Margin %</th>\n      <th>Net Income USD Mil</th>\n      <th>Earnings Per Share USD</th>\n      <th>Dividends USD</th>\n      <th>Payout Ratio % *</th>\n      <th>Shares Mil</th>\n      <th>...</th>\n      <th>Key Ratios -&gt; Efficiency Ratios</th>\n      <th>Efficiency</th>\n      <th>Days Sales Outstanding</th>\n      <th>Days Inventory</th>\n      <th>Payables Period</th>\n      <th>Cash Conversion Cycle</th>\n      <th>Receivables Turnover</th>\n      <th>Inventory Turnover</th>\n      <th>Fixed Assets Turnover</th>\n      <th>Asset Turnover</th>\n    </tr>\n  </thead>\n  <tbody>\n    <tr>\n      <th>1</th>\n      <td>2010-09</td>\n      <td>65,225</td>\n      <td>39.4</td>\n      <td>18,385</td>\n      <td>28.2</td>\n      <td>14,013</td>\n      <td>2.16</td>\n      <td>NaN</td>\n      <td>NaN</td>\n      <td>6,473</td>\n      <td>...</td>\n      <td>NaN</td>\n      <td>2010-09</td>\n      <td>24.82</td>\n      <td>6.95</td>\n      <td>81.30</td>\n      <td>-49.53</td>\n      <td>14.71</td>\n      <td>52.51</td>\n      <td>16.89</td>\n      <td>1.01</td>\n    </tr>\n    <tr>\n      <th>2</th>\n      <td>2011-09</td>\n      <td>108,249</td>\n      <td>40.5</td>\n      <td>33,790</td>\n      <td>31.2</td>\n      <td>25,922</td>\n      <td>3.95</td>\n      <td>NaN</td>\n      <td>NaN</td>\n      <td>6,557</td>\n      <td>...</td>\n      <td>NaN</td>\n      <td>2011-09</td>\n      <td>18.34</td>\n      <td>5.17</td>\n      <td>75.48</td>\n      <td>-51.96</td>\n      <td>19.90</td>\n      <td>70.53</td>\n      <td>17.26</td>\n      <td>1.13</td>\n    </tr>\n    <tr>\n      <th>3</th>\n      <td>2012-09</td>\n      <td>156,508</td>\n      <td>43.9</td>\n      <td>55,241</td>\n      <td>35.3</td>\n      <td>41,733</td>\n      <td>6.31</td>\n      <td>0.38</td>\n      <td>NaN</td>\n      <td>6,617</td>\n      <td>...</td>\n      <td>NaN</td>\n      <td>2012-09</td>\n      <td>19.01</td>\n      <td>3.26</td>\n      <td>74.38</td>\n      <td>-52.13</td>\n      <td>19.20</td>\n      <td>112.12</td>\n      <td>13.48</td>\n      <td>1.07</td>\n    </tr>\n    <tr>\n      <th>4</th>\n      <td>2013-09</td>\n      <td>170,910</td>\n      <td>37.6</td>\n      <td>48,999</td>\n      <td>28.7</td>\n      <td>37,037</td>\n      <td>5.68</td>\n      <td>1.63</td>\n      <td>27.4</td>\n      <td>6,522</td>\n      <td>...</td>\n      <td>NaN</td>\n      <td>2013-09</td>\n      <td>25.66</td>\n      <td>4.37</td>\n      <td>74.54</td>\n      <td>-44.50</td>\n      <td>14.22</td>\n      <td>83.45</td>\n      <td>10.67</td>\n      <td>0.89</td>\n    </tr>\n    <tr>\n      <th>5</th>\n      <td>2014-09</td>\n      <td>182,795</td>\n      <td>38.6</td>\n      <td>52,503</td>\n      <td>28.7</td>\n      <td>39,510</td>\n      <td>6.45</td>\n      <td>1.81</td>\n      <td>28.5</td>\n      <td>6,123</td>\n      <td>...</td>\n      <td>NaN</td>\n      <td>2014-09</td>\n      <td>30.51</td>\n      <td>6.30</td>\n      <td>85.45</td>\n      <td>-48.64</td>\n      <td>11.96</td>\n      <td>57.94</td>\n      <td>9.82</td>\n      <td>0.83</td>\n    </tr>\n    <tr>\n      <th>6</th>\n      <td>2015-09</td>\n      <td>233,715</td>\n      <td>40.1</td>\n      <td>71,230</td>\n      <td>30.5</td>\n      <td>53,394</td>\n      <td>9.22</td>\n      <td>1.98</td>\n      <td>22.3</td>\n      <td>5,793</td>\n      <td>...</td>\n      <td>NaN</td>\n      <td>2015-09</td>\n      <td>26.79</td>\n      <td>5.81</td>\n      <td>85.57</td>\n      <td>-52.97</td>\n      <td>13.62</td>\n      <td>62.82</td>\n      <td>10.85</td>\n      <td>0.89</td>\n    </tr>\n    <tr>\n      <th>7</th>\n      <td>2016-09</td>\n      <td>215,639</td>\n      <td>39.1</td>\n      <td>60,024</td>\n      <td>27.8</td>\n      <td>45,687</td>\n      <td>8.31</td>\n      <td>2.18</td>\n      <td>24.8</td>\n      <td>5,500</td>\n      <td>...</td>\n      <td>NaN</td>\n      <td>2016-09</td>\n      <td>27.59</td>\n      <td>6.22</td>\n      <td>101.11</td>\n      <td>-67.29</td>\n      <td>13.23</td>\n      <td>58.64</td>\n      <td>8.71</td>\n      <td>0.70</td>\n    </tr>\n    <tr>\n      <th>8</th>\n      <td>2017-09</td>\n      <td>229,234</td>\n      <td>38.5</td>\n      <td>61,344</td>\n      <td>26.8</td>\n      <td>48,351</td>\n      <td>9.21</td>\n      <td>2.40</td>\n      <td>26.5</td>\n      <td>5,252</td>\n      <td>...</td>\n      <td>NaN</td>\n      <td>2017-09</td>\n      <td>26.77</td>\n      <td>9.04</td>\n      <td>111.72</td>\n      <td>-75.91</td>\n      <td>13.63</td>\n      <td>40.37</td>\n      <td>7.54</td>\n      <td>0.66</td>\n    </tr>\n    <tr>\n      <th>9</th>\n      <td>2018-09</td>\n      <td>265,595</td>\n      <td>38.3</td>\n      <td>70,898</td>\n      <td>26.7</td>\n      <td>59,531</td>\n      <td>11.91</td>\n      <td>2.72</td>\n      <td>23.7</td>\n      <td>5,000</td>\n      <td>...</td>\n      <td>NaN</td>\n      <td>2018-09</td>\n      <td>28.21</td>\n      <td>9.82</td>\n      <td>116.95</td>\n      <td>-78.92</td>\n      <td>12.94</td>\n      <td>37.17</td>\n      <td>7.07</td>\n      <td>0.72</td>\n    </tr>\n    <tr>\n      <th>10</th>\n      <td>2019-09</td>\n      <td>260,174</td>\n      <td>37.8</td>\n      <td>63,930</td>\n      <td>24.6</td>\n      <td>55,256</td>\n      <td>11.89</td>\n      <td>3.00</td>\n      <td>25.1</td>\n      <td>4,649</td>\n      <td>...</td>\n      <td>NaN</td>\n      <td>2019-09</td>\n      <td>32.35</td>\n      <td>9.09</td>\n      <td>115.20</td>\n      <td>-73.76</td>\n      <td>11.28</td>\n      <td>40.13</td>\n      <td>6.61</td>\n      <td>0.74</td>\n    </tr>\n    <tr>\n      <th>11</th>\n      <td>TTM</td>\n      <td>267,981</td>\n      <td>38.1</td>\n      <td>65,591</td>\n      <td>24.5</td>\n      <td>57,215</td>\n      <td>12.79</td>\n      <td>3.08</td>\n      <td>24.0</td>\n      <td>4,495</td>\n      <td>...</td>\n      <td>NaN</td>\n      <td>TTM</td>\n      <td>20.98</td>\n      <td>9.04</td>\n      <td>69.17</td>\n      <td>-39.15</td>\n      <td>17.40</td>\n      <td>40.36</td>\n      <td>7.18</td>\n      <td>0.81</td>\n    </tr>\n  </tbody>\n</table>\n<p>11 rows × 102 columns</p>\n</div>"
     },
     "metadata": {}
    }
   ],
   "source": [
    "import pandas as pd\n",
    "\n",
    "import stock_analisys.packages.paths as paths\n",
    "\n",
    "\n",
    "def csv_to_pd(ticker):\n",
    "    ticker = ticker.upper().strip()\n",
    "    df = pd.read_csv(paths.morning_star_path / 'income_statement' / f'{ticker} Income Statement.csv')\n",
    "    df = df.transpose()\n",
    "    df = df.reset_index()\n",
    "    \n",
    "    # Fixing Header\n",
    "    new_header = df.iloc[0]  # grab the first row for the header\n",
    "    df = df[1:]  # take the data less the header row\n",
    "    df.columns = new_header  # set the header row as the df header\n",
    "    df.columns.values[0] = \"Year\"\n",
    "\n",
    "    display(df)\n",
    "\n",
    "def csv_to_pd2(ticker):\n",
    "    ticker = ticker.upper().strip()\n",
    "    df = pd.read_csv(paths.morning_star_path / 'key_ratios' / f'{ticker} Key Ratios.csv')\n",
    "    df = df.transpose()\n",
    "    df = df.reset_index()\n",
    "    \n",
    "    # Fixing Header\n",
    "    new_header = df.iloc[0]  # grab the first row for the header\n",
    "    df = df[1:]  # take the data less the header row\n",
    "    df.columns = new_header  # set the header row as the df header\n",
    "    df.columns.values[0] = \"Year\"\n",
    "\n",
    "    df.to_csv('test.csv', index=False)\n",
    "\n",
    "    display(df)\n",
    "\n",
    "def main():\n",
    "    csv_to_pd('mmm')\n",
    "    csv_to_pd2('aapl')\n",
    "\n",
    "\n",
    "if __name__ == \"__main__\":\n",
    "    main()"
   ]
  }
 ],
 "metadata": {
  "kernelspec": {
   "display_name": "Python 3.8.2 64-bit ('stock_analisys': conda)",
   "language": "python",
   "name": "python38264bitstockanalisysconda9db1a91f3ca64bfaa9da37a4c26b86cf"
  },
  "language_info": {
   "codemirror_mode": {
    "name": "ipython",
    "version": 3
   },
   "file_extension": ".py",
   "mimetype": "text/x-python",
   "name": "python",
   "nbconvert_exporter": "python",
   "pygments_lexer": "ipython3",
   "version": "3.6.10-final"
  }
 },
 "nbformat": 4,
 "nbformat_minor": 4
}