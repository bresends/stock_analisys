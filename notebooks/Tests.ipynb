{
 "cells": [
  {
   "cell_type": "code",
   "execution_count": 1,
   "metadata": {},
   "outputs": [],
   "source": [
    "%load_ext autoreload\n",
    "%autoreload 2"
   ]
  },
  {
   "cell_type": "code",
   "execution_count": 2,
   "metadata": {},
   "outputs": [],
   "source": [
    "import os\n",
    "os.chdir('..')"
   ]
  },
  {
   "cell_type": "code",
   "execution_count": null,
   "metadata": {},
   "outputs": [],
   "source": [
    "import stock_analisys.stock_full_analisys as fa\n",
    "fa.complete_study('UNH')"
   ]
  },
  {
   "cell_type": "code",
   "execution_count": 169,
   "metadata": {},
   "outputs": [
    {
     "output_type": "stream",
     "name": "stdout",
     "text": "0\nYear                        11\nRevenue USD Mil             11\nGross Margin %              11\nOperating Income USD Mil    11\nOperating Margin %          11\n                            ..\nCash Conversion Cycle       11\nReceivables Turnover        11\nInventory Turnover          11\nFixed Assets Turnover       11\nAsset Turnover              11\nLength: 102, dtype: int64\n"
    }
   ],
   "source": [
    "import pandas as pd\n",
    "\n",
    "import stock_analisys.packages.paths as paths\n",
    "\n",
    "\n"
   ]
  }
 ],
 "metadata": {
  "kernelspec": {
   "display_name": "Python 3.8.2 64-bit ('stock_analisys': conda)",
   "language": "python",
   "name": "python38264bitstockanalisysconda9db1a91f3ca64bfaa9da37a4c26b86cf"
  },
  "language_info": {
   "codemirror_mode": {
    "name": "ipython",
    "version": 3
   },
   "file_extension": ".py",
   "mimetype": "text/x-python",
   "name": "python",
   "nbconvert_exporter": "python",
   "pygments_lexer": "ipython3",
   "version": "3.6.10-final"
  }
 },
 "nbformat": 4,
 "nbformat_minor": 4
}