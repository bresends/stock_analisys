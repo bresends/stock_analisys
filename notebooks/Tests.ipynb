{
 "cells": [
  {
   "cell_type": "code",
   "execution_count": 1,
   "metadata": {},
   "outputs": [],
   "source": [
    "%load_ext autoreload\n",
    "%autoreload 2"
   ]
  },
  {
   "cell_type": "code",
   "execution_count": 1,
   "metadata": {},
   "outputs": [],
   "source": [
    "import os\n",
    "os.chdir('..')"
   ]
  },
  {
   "cell_type": "code",
   "execution_count": 13,
   "metadata": {},
   "outputs": [
    {
     "output_type": "error",
     "ename": "ModuleNotFoundError",
     "evalue": "No module named 'stock_analisys.stock_full_analisys'",
     "traceback": [
      "\u001b[1;31m---------------------------------------------------------------------------\u001b[0m",
      "\u001b[1;31mModuleNotFoundError\u001b[0m                       Traceback (most recent call last)",
      "\u001b[1;32m<ipython-input-13-17f261d27cdc>\u001b[0m in \u001b[0;36m<module>\u001b[1;34m\u001b[0m\n\u001b[1;32m----> 1\u001b[1;33m \u001b[1;32mimport\u001b[0m \u001b[0mstock_analisys\u001b[0m\u001b[1;33m.\u001b[0m\u001b[0mstock_full_analisys\u001b[0m \u001b[1;32mas\u001b[0m \u001b[0mfa\u001b[0m\u001b[1;33m\u001b[0m\u001b[1;33m\u001b[0m\u001b[0m\n\u001b[0m\u001b[0;32m      2\u001b[0m \u001b[0mfa\u001b[0m\u001b[1;33m.\u001b[0m\u001b[0mcomplete_study\u001b[0m\u001b[1;33m(\u001b[0m\u001b[1;34m'UNH'\u001b[0m\u001b[1;33m)\u001b[0m\u001b[1;33m\u001b[0m\u001b[1;33m\u001b[0m\u001b[0m\n",
      "\u001b[1;31mModuleNotFoundError\u001b[0m: No module named 'stock_analisys.stock_full_analisys'"
     ]
    }
   ],
   "source": [
    "import stock_analisys.stock_full_analisys as fa\n",
    "fa.complete_study('UNH')"
   ]
  },
  {
   "cell_type": "code",
   "execution_count": 12,
   "metadata": {},
   "outputs": [
    {
     "output_type": "display_data",
     "data": {
      "text/plain": "                   Unnamed: 0 2010-12 2011-12 2012-12 2013-12 2014-12 2015-12  \\\n0             Revenue USD Mil     245     266     303     321     356     359   \n1              Gross Margin %    22,6    17,4    23,3      28    30,4    30,3   \n2    Operating Income USD Mil      33      24      44      56      72      72   \n3          Operating Margin %    13,4       9    14,6    17,4    20,2      20   \n4          Net Income USD Mil      22      14      27      38      44      46   \n..                        ...     ...     ...     ...     ...     ...     ...   \n103     Cash Conversion Cycle    92,1   83,44   78,66   81,78   79,82   90,66   \n104      Receivables Turnover    6,67    7,19    7,77    7,74    8,57    7,62   \n105        Inventory Turnover    6,07    6,42    6,89    7,15    7,11    6,57   \n106     Fixed Assets Turnover    3,84    3,31    3,29    3,61    3,98    3,72   \n107            Asset Turnover    1,55    1,57    1,63    1,57    1,59    1,54   \n\n    2016-12 2017-12 2018-12 2019-12    TTM  \n0       384     405     434     469    493  \n1      30,8    30,5    23,9    25,4   27,8  \n2        80      75      57      69     84  \n3      20,8    18,5    13,1    14,6   17,2  \n4        53      54      43      54     67  \n..      ...     ...     ...     ...    ...  \n103   94,02  106,83  113,96  114,43  113,2  \n104    8,26    8,68    8,31    7,73   7,67  \n105    6,19    4,77    4,45    4,63   4,83  \n106    3,56    3,15    2,84    2,74   2,72  \n107    1,57    1,46    1,43    1,38   1,38  \n\n[108 rows x 12 columns]",
      "text/html": "<div>\n<style scoped>\n    .dataframe tbody tr th:only-of-type {\n        vertical-align: middle;\n    }\n\n    .dataframe tbody tr th {\n        vertical-align: top;\n    }\n\n    .dataframe thead th {\n        text-align: right;\n    }\n</style>\n<table border=\"1\" class=\"dataframe\">\n  <thead>\n    <tr style=\"text-align: right;\">\n      <th></th>\n      <th>Unnamed: 0</th>\n      <th>2010-12</th>\n      <th>2011-12</th>\n      <th>2012-12</th>\n      <th>2013-12</th>\n      <th>2014-12</th>\n      <th>2015-12</th>\n      <th>2016-12</th>\n      <th>2017-12</th>\n      <th>2018-12</th>\n      <th>2019-12</th>\n      <th>TTM</th>\n    </tr>\n  </thead>\n  <tbody>\n    <tr>\n      <th>0</th>\n      <td>Revenue USD Mil</td>\n      <td>245</td>\n      <td>266</td>\n      <td>303</td>\n      <td>321</td>\n      <td>356</td>\n      <td>359</td>\n      <td>384</td>\n      <td>405</td>\n      <td>434</td>\n      <td>469</td>\n      <td>493</td>\n    </tr>\n    <tr>\n      <th>1</th>\n      <td>Gross Margin %</td>\n      <td>22,6</td>\n      <td>17,4</td>\n      <td>23,3</td>\n      <td>28</td>\n      <td>30,4</td>\n      <td>30,3</td>\n      <td>30,8</td>\n      <td>30,5</td>\n      <td>23,9</td>\n      <td>25,4</td>\n      <td>27,8</td>\n    </tr>\n    <tr>\n      <th>2</th>\n      <td>Operating Income USD Mil</td>\n      <td>33</td>\n      <td>24</td>\n      <td>44</td>\n      <td>56</td>\n      <td>72</td>\n      <td>72</td>\n      <td>80</td>\n      <td>75</td>\n      <td>57</td>\n      <td>69</td>\n      <td>84</td>\n    </tr>\n    <tr>\n      <th>3</th>\n      <td>Operating Margin %</td>\n      <td>13,4</td>\n      <td>9</td>\n      <td>14,6</td>\n      <td>17,4</td>\n      <td>20,2</td>\n      <td>20</td>\n      <td>20,8</td>\n      <td>18,5</td>\n      <td>13,1</td>\n      <td>14,6</td>\n      <td>17,2</td>\n    </tr>\n    <tr>\n      <th>4</th>\n      <td>Net Income USD Mil</td>\n      <td>22</td>\n      <td>14</td>\n      <td>27</td>\n      <td>38</td>\n      <td>44</td>\n      <td>46</td>\n      <td>53</td>\n      <td>54</td>\n      <td>43</td>\n      <td>54</td>\n      <td>67</td>\n    </tr>\n    <tr>\n      <th>...</th>\n      <td>...</td>\n      <td>...</td>\n      <td>...</td>\n      <td>...</td>\n      <td>...</td>\n      <td>...</td>\n      <td>...</td>\n      <td>...</td>\n      <td>...</td>\n      <td>...</td>\n      <td>...</td>\n      <td>...</td>\n    </tr>\n    <tr>\n      <th>103</th>\n      <td>Cash Conversion Cycle</td>\n      <td>92,1</td>\n      <td>83,44</td>\n      <td>78,66</td>\n      <td>81,78</td>\n      <td>79,82</td>\n      <td>90,66</td>\n      <td>94,02</td>\n      <td>106,83</td>\n      <td>113,96</td>\n      <td>114,43</td>\n      <td>113,2</td>\n    </tr>\n    <tr>\n      <th>104</th>\n      <td>Receivables Turnover</td>\n      <td>6,67</td>\n      <td>7,19</td>\n      <td>7,77</td>\n      <td>7,74</td>\n      <td>8,57</td>\n      <td>7,62</td>\n      <td>8,26</td>\n      <td>8,68</td>\n      <td>8,31</td>\n      <td>7,73</td>\n      <td>7,67</td>\n    </tr>\n    <tr>\n      <th>105</th>\n      <td>Inventory Turnover</td>\n      <td>6,07</td>\n      <td>6,42</td>\n      <td>6,89</td>\n      <td>7,15</td>\n      <td>7,11</td>\n      <td>6,57</td>\n      <td>6,19</td>\n      <td>4,77</td>\n      <td>4,45</td>\n      <td>4,63</td>\n      <td>4,83</td>\n    </tr>\n    <tr>\n      <th>106</th>\n      <td>Fixed Assets Turnover</td>\n      <td>3,84</td>\n      <td>3,31</td>\n      <td>3,29</td>\n      <td>3,61</td>\n      <td>3,98</td>\n      <td>3,72</td>\n      <td>3,56</td>\n      <td>3,15</td>\n      <td>2,84</td>\n      <td>2,74</td>\n      <td>2,72</td>\n    </tr>\n    <tr>\n      <th>107</th>\n      <td>Asset Turnover</td>\n      <td>1,55</td>\n      <td>1,57</td>\n      <td>1,63</td>\n      <td>1,57</td>\n      <td>1,59</td>\n      <td>1,54</td>\n      <td>1,57</td>\n      <td>1,46</td>\n      <td>1,43</td>\n      <td>1,38</td>\n      <td>1,38</td>\n    </tr>\n  </tbody>\n</table>\n<p>108 rows × 12 columns</p>\n</div>"
     },
     "metadata": {}
    }
   ],
   "source": [
    "import pandas as pd\n",
    "\n",
    "import stock_analisys.packages.paths as paths\n",
    "\n",
    "\n",
    "def csv_to_pd(ticker):\n",
    "    ticker = ticker.upper().strip()\n",
    "    df = pd.read_csv(paths.morning_star_path / 'income_statement' / f'{ticker} Income Statement.csv')\n",
    "    display(df)\n",
    "\n",
    "def main():\n",
    "   csv_to_pd('aaon')\n",
    "\n",
    "\n",
    "if __name__ == \"__main__\":\n",
    "    main()"
   ]
  }
 ],
 "metadata": {
  "kernelspec": {
   "display_name": "Python 3.8.2 64-bit ('stock_analisys': conda)",
   "language": "python",
   "name": "python38264bitstockanalisysconda9db1a91f3ca64bfaa9da37a4c26b86cf"
  },
  "language_info": {
   "codemirror_mode": {
    "name": "ipython",
    "version": 3
   },
   "file_extension": ".py",
   "mimetype": "text/x-python",
   "name": "python",
   "nbconvert_exporter": "python",
   "pygments_lexer": "ipython3",
   "version": "3.6.10-final"
  }
 },
 "nbformat": 4,
 "nbformat_minor": 4
}